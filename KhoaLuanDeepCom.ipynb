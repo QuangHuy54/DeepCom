{
  "nbformat": 4,
  "nbformat_minor": 0,
  "metadata": {
    "colab": {
      "provenance": [],
      "authorship_tag": "ABX9TyM1m7N9Xggb86+EyotkPtrJ",
      "include_colab_link": true
    },
    "kernelspec": {
      "name": "python3",
      "display_name": "Python 3"
    },
    "language_info": {
      "name": "python"
    }
  },
  "cells": [
    {
      "cell_type": "markdown",
      "metadata": {
        "id": "view-in-github",
        "colab_type": "text"
      },
      "source": [
        "<a href=\"https://colab.research.google.com/github/QuangHuy54/DeepCom/blob/master/KhoaLuanDeepCom.ipynb\" target=\"_parent\"><img src=\"https://colab.research.google.com/assets/colab-badge.svg\" alt=\"Open In Colab\"/></a>"
      ]
    },
    {
      "cell_type": "code",
      "execution_count": 1,
      "metadata": {
        "colab": {
          "base_uri": "https://localhost:8080/"
        },
        "id": "SVBooXC7scNx",
        "outputId": "ba4e4568-385d-4c33-e8ad-a7f3fa746ae1"
      },
      "outputs": [
        {
          "output_type": "stream",
          "name": "stdout",
          "text": [
            "Cloning into 'DeepCom'...\n",
            "remote: Enumerating objects: 247, done.\u001b[K\n",
            "remote: Counting objects: 100% (247/247), done.\u001b[K\n",
            "remote: Compressing objects: 100% (171/171), done.\u001b[K\n",
            "remote: Total 247 (delta 144), reused 161 (delta 67), pack-reused 0\u001b[K\n",
            "Receiving objects: 100% (247/247), 37.92 MiB | 14.16 MiB/s, done.\n",
            "Resolving deltas: 100% (144/144), done.\n"
          ]
        }
      ],
      "source": [
        "!git clone https://github.com/QuangHuy54/DeepCom.git"
      ]
    },
    {
      "cell_type": "code",
      "source": [
        "!ls DeepCom"
      ],
      "metadata": {
        "id": "xM_00w7h-gWZ"
      },
      "execution_count": null,
      "outputs": []
    }
  ]
}